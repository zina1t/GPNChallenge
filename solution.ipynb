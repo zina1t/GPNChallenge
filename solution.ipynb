{
 "cells": [
  {
   "cell_type": "markdown",
   "metadata": {},
   "source": [
    "Создадим UML-диаграмму для визуализации таблиц и их зависимостей.\n",
    "\n"
   ]
  },
  {
   "cell_type": "markdown",
   "metadata": {},
   "source": [
    "![UMLdiagram](/Users/vladislavgriaztsov/Coding/GPNChallenge/umldiagram.png)\n"
   ]
  }
 ],
 "metadata": {
  "language_info": {
   "name": "python"
  }
 },
 "nbformat": 4,
 "nbformat_minor": 2
}
